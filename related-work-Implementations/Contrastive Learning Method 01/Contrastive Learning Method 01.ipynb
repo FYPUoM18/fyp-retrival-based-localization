{
 "cells": [
  {
   "cell_type": "code",
   "execution_count": 1,
   "id": "1d3651b5",
   "metadata": {},
   "outputs": [
    {
     "name": "stdout",
     "output_type": "stream",
     "text": [
      "Contrastive Loss: tensor(0.0075, grad_fn=<MeanBackward0>)\n",
      "Contrastive Loss: tensor(0.0114, grad_fn=<MeanBackward0>)\n",
      "Contrastive Loss: tensor(0.0470, grad_fn=<MeanBackward0>)\n",
      "Contrastive Loss: tensor(0.0067, grad_fn=<MeanBackward0>)\n",
      "Contrastive Loss: tensor(0.9656, grad_fn=<MeanBackward0>)\n",
      "Contrastive Loss: tensor(0.9998, grad_fn=<MeanBackward0>)\n",
      "Contrastive Loss: tensor(0.9915, grad_fn=<MeanBackward0>)\n",
      "Contrastive Loss: tensor(0.9798, grad_fn=<MeanBackward0>)\n"
     ]
    }
   ],
   "source": [
    "import torch\n",
    "\n",
    "# Define the contrastive loss function\n",
    "def contrastive_loss(output1, output2, label):\n",
    "  d = torch.sqrt(torch.sum((output1 - output2) ** 2))\n",
    "  return torch.mean((label) * d + (1 - label) * (1 - d))\n",
    "\n",
    "# Define the model\n",
    "class ContrastiveIMUModel(torch.nn.Module):\n",
    "  def __init__(self):\n",
    "    super().__init__()\n",
    "    self.linear1 = torch.nn.Linear(1, 10)\n",
    "    self.linear2 = torch.nn.Linear(10, 1)\n",
    "  \n",
    "  def forward(self, input1, input2):\n",
    "    output1 = self.linear2(torch.relu(self.linear1(input1)))\n",
    "    output2 = self.linear2(torch.relu(self.linear1(input2)))\n",
    "    return output1, output2\n",
    "\n",
    "# Define the training loop\n",
    "model = ContrastiveIMUModel()\n",
    "optimizer = torch.optim.Adam(model.parameters(), lr=1e-3)\n",
    "\n",
    "\n",
    "train_data=[]\n",
    "with open('C:/Users/Sandalu Karunasena/Desktop/IMU.txt', 'r') as f:\n",
    "    # Read each line of the file\n",
    "    for line in f:\n",
    "        # Split the line by comma\n",
    "        parts = line.split(',')\n",
    "\n",
    "        # Convert each part to an integer\n",
    "        parts = [float(x) for x in parts]\n",
    "\n",
    "        # Store the resulting list\n",
    "        train_data.append(parts)\n",
    "\n",
    "num_epochs = 1\n",
    "for epoch in range(num_epochs): \n",
    "    for input1, input2, label in train_data:\n",
    "    # Forward pass\n",
    "        output1, output2 = model(torch.tensor(input1).unsqueeze(0), torch.tensor(input2).unsqueeze(0))\n",
    "\n",
    "    # Compute the contrastive loss\n",
    "        loss = contrastive_loss(output1, output2, label)\n",
    "        print(\"Contrastive Loss:\", loss)\n",
    "    # Backpropagate and optimize\n",
    "        optimizer.zero_grad()\n",
    "        loss.backward()\n",
    "        optimizer.step()\n",
    "\n"
   ]
  },
  {
   "cell_type": "code",
   "execution_count": null,
   "id": "c94e76ca",
   "metadata": {},
   "outputs": [],
   "source": []
  }
 ],
 "metadata": {
  "kernelspec": {
   "display_name": "Python 3",
   "language": "python",
   "name": "python3"
  },
  "language_info": {
   "codemirror_mode": {
    "name": "ipython",
    "version": 3
   },
   "file_extension": ".py",
   "mimetype": "text/x-python",
   "name": "python",
   "nbconvert_exporter": "python",
   "pygments_lexer": "ipython3",
   "version": "3.10.9 (tags/v3.10.9:1dd9be6, Dec  6 2022, 20:01:21) [MSC v.1934 64 bit (AMD64)]"
  },
  "vscode": {
   "interpreter": {
    "hash": "9a1abe672d4b0f6bdd422922dfe82dfea0b00f448f3fccd8bdc59e0679bee5c6"
   }
  }
 },
 "nbformat": 4,
 "nbformat_minor": 5
}
