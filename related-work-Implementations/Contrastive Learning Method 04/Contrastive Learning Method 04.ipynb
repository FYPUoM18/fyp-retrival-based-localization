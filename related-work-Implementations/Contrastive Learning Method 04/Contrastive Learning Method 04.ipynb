{
 "cells": [
  {
   "cell_type": "code",
   "execution_count": 12,
   "id": "1d3651b5",
   "metadata": {},
   "outputs": [
    {
     "name": "stdout",
     "output_type": "stream",
     "text": [
      "tensor(0.7531, grad_fn=<MeanBackward0>)\n",
      "tensor(0.7392, grad_fn=<MeanBackward0>)\n",
      "tensor(0.7255, grad_fn=<MeanBackward0>)\n",
      "tensor(0.7119, grad_fn=<MeanBackward0>)\n",
      "tensor(0.6984, grad_fn=<MeanBackward0>)\n",
      "tensor(0.6849, grad_fn=<MeanBackward0>)\n",
      "tensor(0.6716, grad_fn=<MeanBackward0>)\n",
      "tensor(0.6582, grad_fn=<MeanBackward0>)\n",
      "tensor(0.6448, grad_fn=<MeanBackward0>)\n",
      "tensor(0.6313, grad_fn=<MeanBackward0>)\n",
      "Test loss: 0.6010\n",
      "Accuracy: 0.1667\n"
     ]
    }
   ],
   "source": [
    "import torch\n",
    "import torch.nn as nn\n",
    "import pandas as pd\n",
    "\n",
    "# define the model architecture\n",
    "class IMUModel(nn.Module):\n",
    "    def __init__(self, input_size, hidden_size, num_layers):\n",
    "        super(IMUModel, self).__init__()\n",
    "        self.lstm = nn.LSTM(input_size, hidden_size, num_layers)\n",
    "        self.linear = nn.Linear(hidden_size, 1)\n",
    "\n",
    "    def forward(self, x):\n",
    "        x, _ = self.lstm(x)\n",
    "        x = self.linear(x)\n",
    "        return x\n",
    "\n",
    "# define the contrastive loss function\n",
    "def contrastive_loss(y_true, y_pred, margin=1):\n",
    "    return torch.mean(y_true * torch.square(y_pred) + (1 - y_true) * torch.square(torch.clamp(margin - y_pred, 0)))\n",
    "\n",
    "# load the IMU data into a numpy array\n",
    "imu_data = np.genfromtxt('C:/Users/Sandalu Karunasena/Desktop/IMU.txt', delimiter=',')\n",
    "\n",
    "# convert the data to PyTorch tensors\n",
    "imu_data = torch.from_numpy(imu_data)\n",
    "\n",
    "\n",
    "# split the data into training and test sets\n",
    "X_train, X_test, y_train, y_test = train_test_split(imu_data, imu_data, test_size=0.2)\n",
    "\n",
    "# create the model and optimizer\n",
    "model = IMUModel(input_size=3, hidden_size=32, num_layers=2)\n",
    "optimizer = torch.optim.Adam(model.parameters())\n",
    "\n",
    "# train the model\n",
    "for epoch in range(10):  # train for 10 epochs\n",
    "    # Forward pass\n",
    "    x = X_train.to(torch.float)\n",
    "    y = y_train.to(torch.float)\n",
    "    y_pred = model(x)\n",
    "\n",
    "    # Compute the contrastive loss\n",
    "    loss = contrastive_loss(y, y_pred)\n",
    "    print(loss)\n",
    "    # Backpropagate and optimize\n",
    "    optimizer.zero_grad()\n",
    "    loss.backward()\n",
    "    optimizer.step()\n",
    "\n",
    "    # evaluate the model on the test set\n",
    "with torch.no_grad():\n",
    "    x = X_test.to(torch.float)\n",
    "    y = y_test.to(torch.float)\n",
    "\n",
    "    y_pred = model(x)\n",
    "    test_loss = contrastive_loss(y, y_pred)\n",
    "\n",
    "print(f'Test loss: {test_loss:.4f}')\n",
    "\n",
    "# compute the prediction labels based on the predicted distances\n",
    "pred_labels = (y_pred < 0.5).long()\n",
    "\n",
    "# compute the accuracy\n",
    "accuracy = (pred_labels == y).float().mean()\n",
    "\n",
    "print(f'Accuracy: {accuracy:.4f}')\n"
   ]
  },
  {
   "cell_type": "code",
   "execution_count": null,
   "id": "c94e76ca",
   "metadata": {},
   "outputs": [],
   "source": []
  }
 ],
 "metadata": {
  "kernelspec": {
   "display_name": "Python 3",
   "language": "python",
   "name": "python3"
  },
  "language_info": {
   "codemirror_mode": {
    "name": "ipython",
    "version": 3
   },
   "file_extension": ".py",
   "mimetype": "text/x-python",
   "name": "python",
   "nbconvert_exporter": "python",
   "pygments_lexer": "ipython3",
   "version": "3.10.9 (tags/v3.10.9:1dd9be6, Dec  6 2022, 20:01:21) [MSC v.1934 64 bit (AMD64)]"
  },
  "vscode": {
   "interpreter": {
    "hash": "9a1abe672d4b0f6bdd422922dfe82dfea0b00f448f3fccd8bdc59e0679bee5c6"
   }
  }
 },
 "nbformat": 4,
 "nbformat_minor": 5
}
