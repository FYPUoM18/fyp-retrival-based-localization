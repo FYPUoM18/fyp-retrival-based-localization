{
 "cells": [
  {
   "cell_type": "code",
   "execution_count": 19,
   "id": "1d3651b5",
   "metadata": {},
   "outputs": [
    {
     "name": "stdout",
     "output_type": "stream",
     "text": [
      "tensor(1.7755, grad_fn=<MeanBackward0>)\n",
      "tensor(1.7106, grad_fn=<MeanBackward0>)\n",
      "tensor(1.6565, grad_fn=<MeanBackward0>)\n",
      "tensor(1.6091, grad_fn=<MeanBackward0>)\n",
      "tensor(1.5673, grad_fn=<MeanBackward0>)\n",
      "tensor(1.5284, grad_fn=<MeanBackward0>)\n",
      "tensor(1.4903, grad_fn=<MeanBackward0>)\n",
      "tensor(1.4508, grad_fn=<MeanBackward0>)\n",
      "tensor(1.4187, grad_fn=<MeanBackward0>)\n",
      "tensor(1.3858, grad_fn=<MeanBackward0>)\n"
     ]
    }
   ],
   "source": [
    "import torch\n",
    "import numpy as np\n",
    "from sklearn.model_selection import train_test_split\n",
    "\n",
    "# load the IMU data into a numpy array\n",
    "imu_data = np.genfromtxt('CSV3.csv', delimiter=',')\n",
    "\n",
    "# convert the data to PyTorch tensors\n",
    "imu_data = torch.from_numpy(imu_data)\n",
    "X = imu_data[:, 4:10]\n",
    "y = imu_data[:, 2:4]\n",
    "# split the data into training and test sets\n",
    "X_train, X_test, y_train, y_test = train_test_split(X, y, test_size=0.2)\n",
    "\n",
    "\n",
    "# define the model architecture\n",
    "class IMUModel(torch.nn.Module):\n",
    "    def __init__(self):\n",
    "        super(IMUModel, self).__init__()\n",
    "        self.lstm = torch.nn.LSTM(6, 32)  # 6 is the number of dimensions in the IMU data\n",
    "        self.linear1 = torch.nn.Linear(32, 6)\n",
    "        self.linear2 = torch.nn.Linear(32, 6)\n",
    "\n",
    "    def forward(self, x):\n",
    "        x, _ = self.lstm(x)\n",
    "        return self.linear1(x), self.linear2(x)\n",
    "\n",
    "# create the model and move it to the GPU (if available)\n",
    "model = IMUModel()\n",
    "device = torch.device(\"cuda\" if torch.cuda.is_available() else \"cpu\")\n",
    "model = model.to(device)\n",
    "\n",
    "# define the contrastive loss function\n",
    "def contrastive_loss(y_true, y_pred):\n",
    "  margin = 1\n",
    "  max_val, _ = torch.max(margin - y_pred, 0)\n",
    "  return torch.mean(y_true * torch.square(y_pred) + (1 - y_true) * torch.square(max_val))\n",
    "\n",
    "# compile the model with a contrastive loss function\n",
    "optimizer = torch.optim.Adam(model.parameters())\n",
    "\n",
    "# train the model on the training data\n",
    "for epoch in range(10):  # train for 10 epochs\n",
    "    # Forward pass\n",
    "    x = X_train.to(torch.float)\n",
    "\n",
    "    output1, output2 = model(x)\n",
    "\n",
    "    # Compute the contrastive loss\n",
    "    loss = contrastive_loss(output1, output2)\n",
    "    print(loss)\n",
    "    # Backpropagate and optimize\n",
    "    optimizer.zero_grad()\n",
    "    loss.backward()\n",
    "    optimizer.step()"
   ]
  }
 ],
 "metadata": {
  "kernelspec": {
   "display_name": "Python 3 (ipykernel)",
   "language": "python",
   "name": "python3"
  },
  "language_info": {
   "codemirror_mode": {
    "name": "ipython",
    "version": 3
   },
   "file_extension": ".py",
   "mimetype": "text/x-python",
   "name": "python",
   "nbconvert_exporter": "python",
   "pygments_lexer": "ipython3",
   "version": "3.9.12"
  }
 },
 "nbformat": 4,
 "nbformat_minor": 5
}
